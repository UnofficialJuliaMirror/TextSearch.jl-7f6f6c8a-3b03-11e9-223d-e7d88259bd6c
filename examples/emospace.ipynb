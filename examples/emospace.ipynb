{
 "cells": [
  {
   "cell_type": "markdown",
   "metadata": {},
   "source": [
    "# Predicting emojis for Spanish tweets\n",
    "Author: Eric S. Tellez -- [donsadit@gmail.com](mailto:donsadit@gmail.com)\n",
    "\n",
    "## Abstract\n",
    "This scripts shows how to create a text model and a classifier that predicts the related emoji for a given short text.\n",
    "The text model can be a classifical TFIDF model or an Entropy based weighting; we can reduce the size of the model using prunning techniques.\n",
    "This example uses a linear SVM (LIBLINEAR.jl).\n",
    "\n",
    "## Example\n",
    "\n",
    "\n",
    "The first step is to initialize the environment"
   ]
  },
  {
   "cell_type": "code",
   "execution_count": 1,
   "metadata": {},
   "outputs": [
    {
     "name": "stdout",
     "output_type": "stream",
     "text": [
      "\u001b[32m\u001b[1mActivating\u001b[22m\u001b[39m environment at `~/Research/TextSearch.jl/examples/Project.toml`\n",
      "\u001b[32m\u001b[1m  Updating\u001b[22m\u001b[39m registry at `~/.julia/registries/General`\n",
      "\u001b[32m\u001b[1m  Updating\u001b[22m\u001b[39m git-repo `https://github.com/JuliaRegistries/General.git`\n",
      "\u001b[2K\u001b[?25h[1mFetching:\u001b[22m\u001b[39m [========================================>]  100.0 %.0 %\u001b[32m\u001b[1m  Updating\u001b[22m\u001b[39m git-repo `https://github.com/sadit/SimilaritySearch.jl`\n",
      "\u001b[?25l\u001b[2K\u001b[?25h\u001b[32m\u001b[1m  Updating\u001b[22m\u001b[39m git-repo `https://github.com/sadit/SimilaritySearch.jl`\n",
      "\u001b[?25l\u001b[2K\u001b[?25h\u001b[32m\u001b[1m  Updating\u001b[22m\u001b[39m git-repo `https://github.com/sadit/TextSearch.jl`\n",
      "\u001b[2K\u001b[?25h\u001b[32m\u001b[1m  Updating\u001b[22m\u001b[39m git-repo `https://github.com/sadit/TextSearch.jl`\n",
      "\u001b[?25l\u001b[2K\u001b[?25h\u001b[32m\u001b[1m  Updating\u001b[22m\u001b[39m git-repo `https://github.com/sadit/KernelMethods.jl`\n",
      "\u001b[?25l\u001b[2K\u001b[?25h\u001b[32m\u001b[1m  Updating\u001b[22m\u001b[39m git-repo `https://github.com/sadit/KernelMethods.jl`\n",
      "\u001b[?25l\u001b[2K\u001b[?25h\u001b[32m\u001b[1m Resolving\u001b[22m\u001b[39m package versions...\n",
      "\u001b[32m\u001b[1m  Updating\u001b[22m\u001b[39m `~/Research/TextSearch.jl/examples/Project.toml`\n",
      " \u001b[90m [7f6f6c8a]\u001b[39m\u001b[93m ~ TextSearch v0.3.0 #master (https://github.com/sadit/TextSearch.jl)\u001b[39m\n",
      "\u001b[32m\u001b[1m  Updating\u001b[22m\u001b[39m `~/Research/TextSearch.jl/examples/Manifest.toml`\n",
      " \u001b[90m [7f6f6c8a]\u001b[39m\u001b[93m ~ TextSearch v0.3.0 #master (https://github.com/sadit/TextSearch.jl)\u001b[39m\n"
     ]
    },
    {
     "name": "stderr",
     "output_type": "stream",
     "text": [
      "┌ Info: Recompiling stale cache file /Users/sadit/.julia/compiled/v1.2/TextSearch/mqUEb.ji for TextSearch [7f6f6c8a-3b03-11e9-223d-e7d88259bd6c]\n",
      "└ @ Base loading.jl:1240\n"
     ]
    },
    {
     "data": {
      "text/plain": [
       "50000"
      ]
     },
     "execution_count": 1,
     "metadata": {},
     "output_type": "execute_result"
    }
   ],
   "source": [
    "\n",
    "\n",
    "using Pkg\n",
    "pkg\"activate .\"\n",
    "# uncomment to install the required packages\n",
    "pkg\"add https://github.com/sadit/SimilaritySearch.jl https://github.com/sadit/TextSearch.jl https://github.com/sadit/KernelMethods.jl LIBLINEAR Random StatsBase\"\n",
    "using SimilaritySearch, TextSearch, LIBLINEAR, Random, StatsBase, KernelMethods\n",
    "\n",
    "\n",
    "# fetching data\n",
    "url = \"http://ingeotec.mx/~sadit/emospace50k.json.gz\"\n",
    "!isfile(basename(url)) && download(url, basename(url))\n",
    "db = loadtweets(basename(url))\n",
    "n = length(db)"
   ]
  },
  {
   "cell_type": "markdown",
   "metadata": {},
   "source": [
    "## Partitioning the data\n",
    "\n",
    "To estimate the performance of our predictions, we divide our dataset in a 50-50 partition for training and testing collections."
   ]
  },
  {
   "cell_type": "code",
   "execution_count": 5,
   "metadata": {},
   "outputs": [
    {
     "name": "stderr",
     "output_type": "stream",
     "text": [
      "fitting VectorModel with 25000 items\n",
      "xxxxxxxxxxxxxxxxxxxxxxxxxfinished VectorModel: 25000 processed items, voc-size: 230048\n"
     ]
    },
    {
     "ename": "MethodError",
     "evalue": "MethodError: Cannot `convert` an object of type Int64 to an object of type TextSearch.IdFreq\nClosest candidates are:\n  convert(::Type{T}, !Matched::T) where T at essentials.jl:167\n  TextSearch.IdFreq(::Int64, !Matched::Int64) at /Users/sadit/.julia/packages/TextSearch/Ao92B/src/basicmodels.jl:16\n  TextSearch.IdFreq(::Any, !Matched::Any) at /Users/sadit/.julia/packages/TextSearch/Ao92B/src/basicmodels.jl:16",
     "output_type": "error",
     "traceback": [
      "MethodError: Cannot `convert` an object of type Int64 to an object of type TextSearch.IdFreq\nClosest candidates are:\n  convert(::Type{T}, !Matched::T) where T at essentials.jl:167\n  TextSearch.IdFreq(::Int64, !Matched::Int64) at /Users/sadit/.julia/packages/TextSearch/Ao92B/src/basicmodels.jl:16\n  TextSearch.IdFreq(::Any, !Matched::Any) at /Users/sadit/.julia/packages/TextSearch/Ao92B/src/basicmodels.jl:16",
      "",
      "Stacktrace:",
      " [1] setindex!(::Dict{Symbol,TextSearch.IdFreq}, ::Int64, ::Symbol) at ./dict.jl:380",
      " [2] prune_select_top(::VectorModel, ::Int64, ::Type{FreqModel}) at /Users/sadit/.julia/packages/TextSearch/Ao92B/src/basicmodels.jl:112",
      " [3] prune_select_top at /Users/sadit/.julia/packages/TextSearch/Ao92B/src/basicmodels.jl:121 [inlined]",
      " [4] main_tfidf(::Array{Dict,1}) at ./In[5]:29",
      " [5] top-level scope at show.jl:576",
      " [6] top-level scope at In[5]:41"
     ]
    }
   ],
   "source": [
    "\n",
    "function entropy_vectors(corpus, labels)\n",
    "    le = fit(LabelEncoder, labels)\n",
    "    model = fit(EntModel, config, corpus[P1], KernelMethods.transform.(le, labels[P1]),smooth=9)\n",
    "    model = prune_select_top(model, 0.2)\n",
    "    @info \"number-of-tokens:\" length(model.tokens)\n",
    "\n",
    "    X = [vectorize(model, EntModel, text) for text in corpus]\n",
    "    X[P1], X[P2], labels[P1], labels[P2]\n",
    "end\n",
    "\n",
    "function partition(db)\n",
    "    G = shuffle(1:n)\n",
    "    P1 = G[1:div(length(G), 2)]\n",
    "    P2 = G[div(length(G), 2)+1:end]\n",
    "\n",
    "    corpus = get.(db, \"text\", \"\")\n",
    "    labels = get.(db, \"klass\", \"\")\n",
    "    (corpus_train=corpus[P1], labels_train=labels[P1], corpus_test=corpus[P2], labels_test=labels[P2])\n",
    "end\n",
    "\n",
    "function main_tfidf(db)\n",
    "    part = partition(db)\n",
    "    # TextConfig specifies the way the text will be processed;\n",
    "    # note that emoticons are specially handled to remove them from the text\n",
    "    config = TextConfig(qlist=[3, 5], nlist=[], group_emo=true)\n",
    "    model_ = fit(VectorModel, config, part.corpus_train)\n",
    "    for p in [1.0, 0.9, 0.7, 0.5, 0.3, 0.1]\n",
    "        model = prune_select_top(model_, p, FreqModel)\n",
    "        Xtrain = [vectorize(model, TfidfModel, text) for text in part.corpus_train]\n",
    "        Xtest = [vectorize(model, TfidfModel, text) for text in part.corpus_test]\n",
    "\n",
    "        #Xtrain, Xtest, ytrain, ytest = entropy_vectors(corpus, labels)\n",
    "        # Xtrain, Xtest, ytrain, ytest = tfidf_vectors(corpus, labels)\n",
    "        classifier = linear_train(part.labels_train, hcat(Xtrain...), C=0.1)\n",
    "        predictions, decision_values = linear_predict(classifier, hcat(Xtest...))\n",
    "        accuracy = mean(part.labels_test .== predictions)\n",
    "        display(p => accuracy)\n",
    "    end\n",
    "end\n",
    "\n",
    "\n",
    "@show main_tfidf(db)"
   ]
  }
 ],
 "metadata": {
  "kernelspec": {
   "display_name": "Julia 1.2.0",
   "language": "julia",
   "name": "julia-1.2"
  },
  "language_info": {
   "file_extension": ".jl",
   "mimetype": "application/julia",
   "name": "julia",
   "version": "1.2.0"
  }
 },
 "nbformat": 4,
 "nbformat_minor": 4
}
